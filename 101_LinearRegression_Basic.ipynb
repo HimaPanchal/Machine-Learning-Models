{
 "cells": [
  {
   "cell_type": "code",
   "execution_count": 1,
   "id": "35246171",
   "metadata": {},
   "outputs": [],
   "source": [
    "#Linear Regression Basic Template\n",
    "# Import required packages\n",
    "from sklearn.linear_model import LinearRegression\n",
    "from sklearn.model_selection import train_test_split\n",
    "from sklearn.metrics import r2_score\n",
    "import pandas as pd"
   ]
  },
  {
   "cell_type": "code",
   "execution_count": 3,
   "id": "467c77c1",
   "metadata": {},
   "outputs": [],
   "source": [
    "my_df = pd.read_csv(r\"C:\\Users\\hima7\\Downloads\\DATA SCIENCE INFINITY\\Machine Learning\\Model Building\\sample_data_regression.csv\")"
   ]
  },
  {
   "cell_type": "code",
   "execution_count": 7,
   "id": "953b2f25",
   "metadata": {},
   "outputs": [],
   "source": [
    "# Split data into input and output objects, it will be more or less same method for every model we build in sklearn\n",
    "X = my_df.drop([\"output\"], axis = 1) # X which is our input variable and we are dropping column so axis is 1\n",
    "y = my_df[\"output\"]\n"
   ]
  },
  {
   "cell_type": "code",
   "execution_count": 9,
   "id": "0cbcfc14",
   "metadata": {},
   "outputs": [],
   "source": [
    "X_train, X_test,y_train, y_test =  train_test_split(X,y,test_size = 0.2, random_state = 42) # Test size is for 20% and rest 80 % data for training \n"
   ]
  },
  {
   "cell_type": "code",
   "execution_count": 10,
   "id": "cebeeee1",
   "metadata": {},
   "outputs": [],
   "source": [
    "#Instatiate our model\n",
    "regressor = LinearRegression()"
   ]
  },
  {
   "cell_type": "code",
   "execution_count": 11,
   "id": "b65fa55e",
   "metadata": {},
   "outputs": [
    {
     "data": {
      "text/plain": [
       "LinearRegression()"
      ]
     },
     "execution_count": 11,
     "metadata": {},
     "output_type": "execute_result"
    }
   ],
   "source": [
    "#Train our model\n",
    "regressor.fit(X_train,y_train)"
   ]
  },
  {
   "cell_type": "code",
   "execution_count": 12,
   "id": "fb1308f1",
   "metadata": {},
   "outputs": [
    {
     "data": {
      "text/plain": [
       "0.7520950550848782"
      ]
     },
     "execution_count": 12,
     "metadata": {},
     "output_type": "execute_result"
    }
   ],
   "source": [
    "# assess model accuracy a technique names R squared (R2)\n",
    "y_pred = regressor.predict(X_test)\n",
    "r2_score(y_test,y_pred)"
   ]
  },
  {
   "cell_type": "code",
   "execution_count": null,
   "id": "298dec58",
   "metadata": {},
   "outputs": [],
   "source": []
  }
 ],
 "metadata": {
  "kernelspec": {
   "display_name": "Python 3 (ipykernel)",
   "language": "python",
   "name": "python3"
  },
  "language_info": {
   "codemirror_mode": {
    "name": "ipython",
    "version": 3
   },
   "file_extension": ".py",
   "mimetype": "text/x-python",
   "name": "python",
   "nbconvert_exporter": "python",
   "pygments_lexer": "ipython3",
   "version": "3.9.13"
  }
 },
 "nbformat": 4,
 "nbformat_minor": 5
}
